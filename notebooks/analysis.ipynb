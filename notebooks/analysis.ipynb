{
 "cells": [
  {
   "cell_type": "code",
   "execution_count": 1,
   "metadata": {
    "colab": {
     "base_uri": "https://localhost:8080/"
    },
    "executionInfo": {
     "elapsed": 25774,
     "status": "ok",
     "timestamp": 1758096682210,
     "user": {
      "displayName": "anju k",
      "userId": "09268132081489703059"
     },
     "user_tz": -330
    },
    "id": "f2n7LwK7uVQr",
    "outputId": "255f24d5-bee8-4092-e284-9fd7402620f2"
   },
   "outputs": [
    {
     "name": "stdout",
     "output_type": "stream",
     "text": [
      "Mounted at /content/drive\n"
     ]
    }
   ],
   "source": [
    "from google.colab import drive\n",
    "drive.mount('/content/drive')"
   ]
  },
  {
   "cell_type": "code",
   "execution_count": 2,
   "metadata": {
    "colab": {
     "base_uri": "https://localhost:8080/"
    },
    "executionInfo": {
     "elapsed": 8238,
     "status": "ok",
     "timestamp": 1758096697470,
     "user": {
      "displayName": "anju k",
      "userId": "09268132081489703059"
     },
     "user_tz": -330
    },
    "id": "o5Fm55Iouk0H",
    "outputId": "1e9685db-01ea-4770-c7fe-d5e56c856908"
   },
   "outputs": [
    {
     "name": "stdout",
     "output_type": "stream",
     "text": [
      "Requirement already satisfied: pandas in /usr/local/lib/python3.12/dist-packages (2.2.2)\n",
      "Requirement already satisfied: numpy in /usr/local/lib/python3.12/dist-packages (2.0.2)\n",
      "Requirement already satisfied: scikit-learn in /usr/local/lib/python3.12/dist-packages (1.6.1)\n",
      "Requirement already satisfied: matplotlib in /usr/local/lib/python3.12/dist-packages (3.10.0)\n",
      "Requirement already satisfied: seaborn in /usr/local/lib/python3.12/dist-packages (0.13.2)\n",
      "Requirement already satisfied: plotly in /usr/local/lib/python3.12/dist-packages (5.24.1)\n",
      "Requirement already satisfied: python-dateutil>=2.8.2 in /usr/local/lib/python3.12/dist-packages (from pandas) (2.9.0.post0)\n",
      "Requirement already satisfied: pytz>=2020.1 in /usr/local/lib/python3.12/dist-packages (from pandas) (2025.2)\n",
      "Requirement already satisfied: tzdata>=2022.7 in /usr/local/lib/python3.12/dist-packages (from pandas) (2025.2)\n",
      "Requirement already satisfied: scipy>=1.6.0 in /usr/local/lib/python3.12/dist-packages (from scikit-learn) (1.16.1)\n",
      "Requirement already satisfied: joblib>=1.2.0 in /usr/local/lib/python3.12/dist-packages (from scikit-learn) (1.5.2)\n",
      "Requirement already satisfied: threadpoolctl>=3.1.0 in /usr/local/lib/python3.12/dist-packages (from scikit-learn) (3.6.0)\n",
      "Requirement already satisfied: contourpy>=1.0.1 in /usr/local/lib/python3.12/dist-packages (from matplotlib) (1.3.3)\n",
      "Requirement already satisfied: cycler>=0.10 in /usr/local/lib/python3.12/dist-packages (from matplotlib) (0.12.1)\n",
      "Requirement already satisfied: fonttools>=4.22.0 in /usr/local/lib/python3.12/dist-packages (from matplotlib) (4.59.2)\n",
      "Requirement already satisfied: kiwisolver>=1.3.1 in /usr/local/lib/python3.12/dist-packages (from matplotlib) (1.4.9)\n",
      "Requirement already satisfied: packaging>=20.0 in /usr/local/lib/python3.12/dist-packages (from matplotlib) (25.0)\n",
      "Requirement already satisfied: pillow>=8 in /usr/local/lib/python3.12/dist-packages (from matplotlib) (11.3.0)\n",
      "Requirement already satisfied: pyparsing>=2.3.1 in /usr/local/lib/python3.12/dist-packages (from matplotlib) (3.2.3)\n",
      "Requirement already satisfied: tenacity>=6.2.0 in /usr/local/lib/python3.12/dist-packages (from plotly) (8.5.0)\n",
      "Requirement already satisfied: six>=1.5 in /usr/local/lib/python3.12/dist-packages (from python-dateutil>=2.8.2->pandas) (1.17.0)\n"
     ]
    }
   ],
   "source": [
    "!pip install pandas numpy scikit-learn matplotlib seaborn plotly\n"
   ]
  },
  {
   "cell_type": "code",
   "execution_count": 3,
   "metadata": {
    "colab": {
     "base_uri": "https://localhost:8080/"
    },
    "executionInfo": {
     "elapsed": 5069,
     "status": "ok",
     "timestamp": 1758096780009,
     "user": {
      "displayName": "anju k",
      "userId": "09268132081489703059"
     },
     "user_tz": -330
    },
    "id": "D4Mjwepaupht",
    "outputId": "03991378-4b7d-42cf-e80e-4a889cd52e18"
   },
   "outputs": [
    {
     "name": "stdout",
     "output_type": "stream",
     "text": [
      "Drive already mounted at /content/drive; to attempt to forcibly remount, call drive.mount(\"/content/drive\", force_remount=True).\n",
      "Dataset saved to /content/drive/MyDrive/student_learning_data/\n"
     ]
    }
   ],
   "source": [
    "import pandas as pd\n",
    "import numpy as np\n",
    "from google.colab import drive\n",
    "\n",
    "\n",
    "drive.mount('/content/drive')\n",
    "\n",
    "\n",
    "np.random.seed(42)\n",
    "n = 500  \n",
    "\n",
    "\n",
    "data = {\n",
    "    \"student_id\": range(1, n+1),\n",
    "    \"name\": [f\"Student_{i}\" for i in range(1, n+1)],\n",
    "    \"class\": np.random.choice([\"6A\",\"6B\",\"7A\",\"7B\"], n),\n",
    "    \"comprehension\": np.clip(np.random.normal(75, 10, n), 50, 100).astype(int),\n",
    "    \"attention\": np.clip(np.random.normal(65, 15, n), 30, 100).astype(int),\n",
    "    \"focus\": np.clip(np.random.normal(60, 12, n), 25, 100).astype(int),\n",
    "    \"retention\": np.clip(np.random.normal(0.6 * 75, 10, n), 20, 100).astype(int),  # correlated with comprehension\n",
    "    \"engagement_time\": np.clip(np.random.exponential(30, n) + 10, 10, 300).astype(int)\n",
    "}\n",
    "\n",
    "df = pd.DataFrame(data)\n",
    "\n",
    "\n",
    "df[\"assessment_score\"] = (\n",
    "    0.25*df[\"comprehension\"] +\n",
    "    0.25*df[\"attention\"] +\n",
    "    0.2*df[\"focus\"] +\n",
    "    0.2*df[\"retention\"] +\n",
    "    0.1*(df[\"engagement_time\"]/3) +\n",
    "    np.random.normal(0, 5, n)\n",
    ").round().astype(int)\n",
    "\n",
    "\n",
    "df[\"assessment_score\"] = df[\"assessment_score\"].clip(0, 100)\n",
    "\n",
    "\n",
    "output_path = \"/content/drive/MyDrive/student_learning_data\"\n",
    "import os\n",
    "os.makedirs(output_path, exist_ok=True)\n",
    "\n",
    "df.to_csv(f\"{output_path}/students_data.csv\", index=False)\n",
    "df.to_json(f\"{output_path}/students_data.json\", orient=\"records\")\n",
    "\n",
    "print(f\"Dataset saved to {output_path}/\")\n"
   ]
  },
  {
   "cell_type": "code",
   "execution_count": 8,
   "metadata": {
    "colab": {
     "base_uri": "https://localhost:8080/"
    },
    "executionInfo": {
     "elapsed": 3607,
     "status": "ok",
     "timestamp": 1758097296553,
     "user": {
      "displayName": "anju k",
      "userId": "09268132081489703059"
     },
     "user_tz": -330
    },
    "id": "KWpXtLf9vG2x",
    "outputId": "e27701d4-e1a1-4b80-c4f3-c1f0f9a43744"
   },
   "outputs": [
    {
     "name": "stdout",
     "output_type": "stream",
     "text": [
      "Drive already mounted at /content/drive; to attempt to forcibly remount, call drive.mount(\"/content/drive\", force_remount=True).\n",
      "Saved files in /content/drive/MyDrive/student_learning_data\n"
     ]
    }
   ],
   "source": [
    "import os\n",
    "from google.colab import drive\n",
    "\n",
    "\n",
    "drive.mount('/content/drive')\n",
    "\n",
    "\n",
    "output_path = \"/content/drive/MyDrive/student_learning_data\"\n",
    "os.makedirs(output_path, exist_ok=True)\n",
    "\n",
    "df.to_csv(f\"{output_path}/students_clean.csv\", index=False)\n",
    "df.to_json(f\"{output_path}/students_clean.json\", orient=\"records\")\n",
    "\n",
    "print(f\"Saved files in {output_path}\")\n"
   ]
  },
  {
   "cell_type": "code",
   "execution_count": 9,
   "metadata": {
    "colab": {
     "base_uri": "https://localhost:8080/"
    },
    "executionInfo": {
     "elapsed": 1084,
     "status": "ok",
     "timestamp": 1758097309723,
     "user": {
      "displayName": "anju k",
      "userId": "09268132081489703059"
     },
     "user_tz": -330
    },
    "id": "idGKrk8NvJQ-",
    "outputId": "40a22a92-d4db-42e5-ee1a-674629e8b436"
   },
   "outputs": [
    {
     "name": "stdout",
     "output_type": "stream",
     "text": [
      "Mean Squared Error: 27.958569\n",
      "Model saved to /content/drive/MyDrive/student_learning_data/student_model.pkl\n"
     ]
    }
   ],
   "source": [
    "from sklearn.model_selection import train_test_split\n",
    "from sklearn.ensemble import RandomForestRegressor\n",
    "from sklearn.metrics import mean_squared_error\n",
    "import joblib\n",
    "\n",
    "\n",
    "X = df[[\"comprehension\",\"attention\",\"focus\",\"retention\",\"engagement_time\"]]\n",
    "y = df[\"assessment_score\"]\n",
    "\n",
    "\n",
    "X_train, X_test, y_train, y_test = train_test_split(X, y, test_size=0.2, random_state=42)\n",
    "\n",
    "\n",
    "model = RandomForestRegressor(n_estimators=100, random_state=42)\n",
    "model.fit(X_train, y_train)\n",
    "\n",
    "\n",
    "y_pred = model.predict(X_test)\n",
    "print(\"Mean Squared Error:\", mean_squared_error(y_test, y_pred))\n",
    "\n",
    "\n",
    "model_path = f\"{output_path}/student_model.pkl\"\n",
    "joblib.dump(model, model_path)\n",
    "print(f\"Model saved to {model_path}\")\n"
   ]
  },
  {
   "cell_type": "code",
   "execution_count": 6,
   "metadata": {
    "colab": {
     "base_uri": "https://localhost:8080/"
    },
    "executionInfo": {
     "elapsed": 791,
     "status": "ok",
     "timestamp": 1758096845889,
     "user": {
      "displayName": "anju k",
      "userId": "09268132081489703059"
     },
     "user_tz": -330
    },
    "id": "ZgfPIgtbvOGJ",
    "outputId": "95947999-1434-44db-9d1d-75c6e3c770ba"
   },
   "outputs": [
    {
     "name": "stdout",
     "output_type": "stream",
     "text": [
      "MSE: 27.958569\n"
     ]
    }
   ],
   "source": []
  },
  {
   "cell_type": "code",
   "execution_count": 10,
   "metadata": {
    "colab": {
     "base_uri": "https://localhost:8080/"
    },
    "executionInfo": {
     "elapsed": 36,
     "status": "ok",
     "timestamp": 1758097319972,
     "user": {
      "displayName": "anju k",
      "userId": "09268132081489703059"
     },
     "user_tz": -330
    },
    "id": "o2m3IYdkvQo9",
    "outputId": "a8242d9a-bfb8-4c81-d1de-940f4404ebee"
   },
   "outputs": [
    {
     "name": "stdout",
     "output_type": "stream",
     "text": [
      "   student_id       name  persona\n",
      "0           1  Student_1        0\n",
      "1           2  Student_2        2\n",
      "2           3  Student_3        1\n",
      "3           4  Student_4        2\n",
      "4           5  Student_5        2\n",
      "Updated dataset with personas saved in /content/drive/MyDrive/student_learning_data\n"
     ]
    }
   ],
   "source": [
    "from sklearn.cluster import KMeans\n",
    "\n",
    "\n",
    "kmeans = KMeans(n_clusters=3, random_state=42)\n",
    "df[\"persona\"] = kmeans.fit_predict(X)\n",
    "\n",
    "\n",
    "df.to_csv(f\"{output_path}/students_with_persona.csv\", index=False)\n",
    "df.to_json(f\"{output_path}/students_with_persona.json\", orient=\"records\")\n",
    "\n",
    "\n",
    "print(df[[\"student_id\",\"name\",\"persona\"]].head())\n",
    "print(f\"Updated dataset with personas saved in {output_path}\")\n"
   ]
  },
  {
   "cell_type": "code",
   "execution_count": 11,
   "metadata": {
    "colab": {
     "base_uri": "https://localhost:8080/"
    },
    "executionInfo": {
     "elapsed": 42,
     "status": "ok",
     "timestamp": 1758097358458,
     "user": {
      "displayName": "anju k",
      "userId": "09268132081489703059"
     },
     "user_tz": -330
    },
    "id": "X2sfmCulxLWi",
    "outputId": "588aa30f-6917-41b8-cc95-f61a288e4a39"
   },
   "outputs": [
    {
     "name": "stdout",
     "output_type": "stream",
     "text": [
      "Number of students in the dataset: 500\n"
     ]
    }
   ],
   "source": [
    "print(\"Number of students in the dataset:\", len(df))\n"
   ]
  },
  {
   "cell_type": "code",
   "execution_count": 12,
   "metadata": {
    "colab": {
     "base_uri": "https://localhost:8080/"
    },
    "executionInfo": {
     "elapsed": 3908,
     "status": "ok",
     "timestamp": 1758097430420,
     "user": {
      "displayName": "anju k",
      "userId": "09268132081489703059"
     },
     "user_tz": -330
    },
    "id": "qiocx8NCxb81",
    "outputId": "811de7f5-901f-4c5b-8c0e-40c52c0f7847"
   },
   "outputs": [
    {
     "name": "stdout",
     "output_type": "stream",
     "text": [
      "Drive already mounted at /content/drive; to attempt to forcibly remount, call drive.mount(\"/content/drive\", force_remount=True).\n",
      "All files saved in: /content/drive/MyDrive/student_learning_data/\n"
     ]
    }
   ],
   "source": [
    "import os\n",
    "from google.colab import drive\n",
    "\n",
    "\n",
    "drive.mount('/content/drive')\n",
    "\n",
    "\n",
    "save_path = \"/content/drive/MyDrive/student_learning_data/\"\n",
    "os.makedirs(save_path, exist_ok=True)  \n",
    "\n",
    "\n",
    "df.to_json(save_path + \"student_data.json\", orient=\"records\")\n",
    "\n",
    "\n",
    "persona_data = df.groupby(\"persona\")[[\"comprehension\", \"attention\", \"focus\", \"retention\", \"engagement_time\", \"assessment_score\"]].mean().reset_index()\n",
    "persona_data.to_json(save_path + \"persona_profiles.json\", orient=\"records\")\n",
    "\n",
    "\n",
    "if \"persona\" in df.columns:\n",
    "    df[[\"student_id\", \"name\", \"persona\"]].to_json(save_path + \"student_personas.json\", orient=\"records\")\n",
    "\n",
    "print(\"All files saved in:\", save_path)\n"
   ]
  }
 ],
 "metadata": {
  "colab": {
   "authorship_tag": "ABX9TyNutVD3iaCNTSdQO1kZkgdN",
   "provenance": []
  },
  "kernelspec": {
   "display_name": "Python 3",
   "name": "python3"
  },
  "language_info": {
   "name": "python"
  }
 },
 "nbformat": 4,
 "nbformat_minor": 0
}
